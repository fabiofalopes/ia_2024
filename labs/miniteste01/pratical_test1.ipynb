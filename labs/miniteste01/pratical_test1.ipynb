{
 "cells": [
  {
   "cell_type": "code",
   "execution_count": null,
   "metadata": {},
   "outputs": [],
   "source": [
    "# Imports etc."
   ]
  },
  {
   "cell_type": "markdown",
   "metadata": {},
   "source": [
    "# Pratical test 1: Artificial Inteligence"
   ]
  },
  {
   "cell_type": "markdown",
   "metadata": {},
   "source": [
    "# Preliminary notes\n",
    "\n",
    "This is a formal evaluation. Please observe the following rules during the entire evaluation:\n",
    "\n",
    "1. You cannot speak to other students once that evaluation starts.\n",
    "2. There will be 15 minutes at the beginning where you can ask questions, and 5 min in the middle, and another 5 min towards the end of the test. Wait for your professor to indicate when you can ask questions.\n",
    "3. You can only consult the Python documentation site.\n",
    "4. You cannot consult any previous notebooks you created or shared with you.\n",
    "5. All the math formulae you need are included here.\n",
    "6. You can only have your Jupyter Python and a broswer pointing to the Python documentation open. Any other open tabs or apps can invalidate your test.\n",
    "7. Distributing the contents of this test is forbidden."
   ]
  },
  {
   "cell_type": "markdown",
   "metadata": {},
   "source": [
    "## 1. Recursive\n",
    "\n",
    "Consider the DFS (Depth First Search) code below:\n",
    "\n"
   ]
  },
  {
   "cell_type": "code",
   "execution_count": 18,
   "metadata": {},
   "outputs": [
    {
     "name": "stdout",
     "output_type": "stream",
     "text": [
      "visiting node A\n",
      "q is ['B', 'C', 'E']\n",
      "visiting node B\n",
      "q is ['C', 'E', 'D', 'E']\n",
      "visiting node C\n",
      "q is ['E', 'D', 'E', 'F', 'G']\n",
      "visiting node E\n",
      "q is ['D', 'E', 'F', 'G', 'D', 'F']\n",
      "visiting node D\n",
      "q is ['E', 'F', 'G', 'D', 'F', 'H']\n",
      "visiting node E\n",
      "visiting node F\n",
      "q is ['G', 'D', 'F', 'H']\n",
      "visiting node G\n",
      "found goal node\n",
      "['A', 'B', 'E', 'F', 'C', 'D']\n"
     ]
    }
   ],
   "source": [
    "g = {\n",
    "    'A': ['B', 'C', 'E'],\n",
    "    'B': ['D', 'E'],\n",
    "    'C': ['F', 'G'],\n",
    "    'D': ['H'],\n",
    "    'E': ['D', 'F'],\n",
    "    'F': ['C'],\n",
    "    'G': ['F'],\n",
    "    'H': []\n",
    "}\n",
    "\n",
    "def dfs(neighbour_list, root_node, goal):\n",
    "\n",
    "    #nós ja visitados\n",
    "    visited_nodes = set()\n",
    "\n",
    "    # lista iniciada a partir do nó inicial\n",
    "    q = [root_node]\n",
    "\n",
    "    #enquanto q existir e a flag found for false\n",
    "    while q:\n",
    "\n",
    "        #exclui-se o ultimo elemento da q\n",
    "        node = q.pop(0)\n",
    "\n",
    "        #print do visiting node\n",
    "        print('visiting node', node)\n",
    "\n",
    "        #se o nó analisado for o nó buscado\n",
    "        if node == goal:\n",
    "            #print para avisar que achou o nó\n",
    "            print('found goal node')\n",
    "            break\n",
    "\n",
    "        #caso o nó analisado nao seja o nó buscado\n",
    "        elif node not in visited_nodes:\n",
    "            #adicionar o nó analisado na lista de nós visitados\n",
    "            visited_nodes.add(node)\n",
    "\n",
    "            q = sorted(set(neighbour_list[node]) - visited_nodes) + q\n",
    "\n",
    "            print('q is', q)\n",
    "            \n",
    "    return list(visited_nodes)\n",
    "\n",
    "print(dfs(g, 'A', 'G'))"
   ]
  },
  {
   "cell_type": "markdown",
   "metadata": {},
   "source": [
    "Rewrite the code above making it a recursive function (without using `while`)."
   ]
  },
  {
   "cell_type": "code",
   "execution_count": 12,
   "metadata": {},
   "outputs": [
    {
     "name": "stdout",
     "output_type": "stream",
     "text": [
      "visiting node A\n",
      "stack is ['B', 'C', 'E']\n",
      "visiting node B\n",
      "stack is ['D', 'E', 'C', 'E']\n",
      "visiting node D\n",
      "stack is ['H', 'E', 'C', 'E']\n",
      "visiting node H\n",
      "stack is ['E', 'C', 'E']\n",
      "visiting node E\n",
      "stack is ['F', 'C', 'E']\n",
      "visiting node F\n",
      "stack is ['C', 'C', 'E']\n",
      "visiting node C\n",
      "stack is ['G', 'C', 'E']\n",
      "visiting node G\n",
      "found goal node\n",
      "['A', 'H', 'B', 'E', 'F', 'C', 'D']\n"
     ]
    }
   ],
   "source": [
    "g = {\n",
    "    'A': ['B', 'C', 'E'],\n",
    "    'B': ['D', 'E'],\n",
    "    'C': ['F', 'G'],\n",
    "    'D': ['H'],\n",
    "    'E': ['D', 'F'],\n",
    "    'F': ['C'],\n",
    "    'G': ['F'],\n",
    "    'H': []\n",
    "}\n",
    "\n",
    "def dfs_recursive(neighbour_list, root_node, goal, visited_nodes = None, stack = None):\n",
    "\n",
    "\t#nós ja visitados\n",
    "\tif visited_nodes is None:\n",
    "\t\tvisited_nodes = set()\n",
    "\n",
    "    # lista iniciada a partir do nó inicial\n",
    "\tif stack is None:\n",
    "\t\tstack = [root_node]\n",
    "\n",
    "\t# stack chegou ao fim ?\n",
    "\tif not stack:\n",
    "\t\treturn list(visited_nodes)\n",
    "\n",
    "\tnode = stack.pop(0)\n",
    " \n",
    "\tprint('visiting node', node)\n",
    "\n",
    "\t#se o nó analisado for o nó buscado\n",
    "\tif node == goal:\n",
    "\t\t#print para avisar que achou o nó\n",
    "\t\tprint('found goal node')\n",
    "\t\treturn list(visited_nodes)  \n",
    "  \n",
    "\t#caso o nó analisado nao seja o nó buscado\n",
    "\telif node not in visited_nodes:\n",
    "\t\t#adicionar o nó analisado na lista de nós visitados\n",
    "\t\tvisited_nodes.add(node)\n",
    "\t\tstack = sorted(set(neighbour_list[node]) - visited_nodes) + stack\n",
    "\t\tprint('stack is', stack)\n",
    "  \n",
    "\treturn dfs_recursive(neighbour_list, root_node, goal, visited_nodes, stack)\n",
    "\n",
    "print(dfs_recursive(g, 'A', 'G'))"
   ]
  },
  {
   "cell_type": "markdown",
   "metadata": {},
   "source": [
    "## 2. Stack in DFS\n",
    "The DFS approach uses stacks as a way to define the next node to be analyzed. Indicate and explain using the code you created above where it uses stacks."
   ]
  },
  {
   "cell_type": "code",
   "execution_count": 17,
   "metadata": {},
   "outputs": [
    {
     "data": {
      "text/plain": [
       "'python\\n\\n\\treturn dfs_recursive(neighbour_list, root_node, goal, visited_nodes, stack)\\n\\n\\t# por fim visto que a funcao e recursiva stack é novamente passada a nova call, agora atualizada \\n\\n'"
      ]
     },
     "execution_count": 17,
     "metadata": {},
     "output_type": "execute_result"
    }
   ],
   "source": [
    "'''python\n",
    "\n",
    "# Função recebe stack como parametro na função recursiva, caso esta ainda nao tenha nada, isto é inicio da search, entao inicializa\n",
    "\n",
    "def dfs_recursive(neighbour_list, root_node, goal, visited_nodes = None, stack = None):\n",
    "\n",
    "'''\n",
    "\n",
    "#---\n",
    "\n",
    "# Inicializa a stack com o root node \n",
    "'''python\n",
    "\n",
    "if stack is None:\n",
    "\t\tstack = [root_node]\n",
    "\n",
    "'''\n",
    "\n",
    "#---\n",
    "\n",
    "'''python\n",
    "\n",
    "# stack chegou ao fim ?\n",
    "if not stack:\n",
    "\treturn list(visited_nodes)\n",
    "\n",
    "'''\n",
    "\n",
    "#---\n",
    "\n",
    "'''python\n",
    "\n",
    "# proximo no para a search remove o ultimo no da stack\n",
    "\n",
    "node = stack.pop(0)\n",
    "\n",
    "'''\n",
    "\n",
    "#---\n",
    "\n",
    "'''python\n",
    "\n",
    "# caso o nó analisado nao seja o nó buscado\n",
    "\telif node not in visited_nodes:\n",
    "\t\t# adicionar o nó analisado na lista de nós visitados\n",
    "\t\tvisited_nodes.add(node)\n",
    "# ->\t\tstack = sorted(set(neighbour_list[node]) - visited_nodes) + stack\n",
    "\t\tprint('stack is', stack)\n",
    "\n",
    "# nesta linha são adicionados a stack os visinhos de node (exceprto os que ja possam ter sido visitado)\n",
    "# soma a stack no fim \n",
    "# assim os ultmos nos encontrados vao para o topo da fila \n",
    "# logo quando fazemos pop(0) estamos a remover do inicio da fila mas neste caso corresponde ao ultimo no adicionado\n",
    "# logo indo para mais profundidade em relação a arvore\n",
    "\n",
    "'''\n",
    "\n",
    "#---\n",
    "\n",
    "'''python\n",
    "\n",
    "\treturn dfs_recursive(neighbour_list, root_node, goal, visited_nodes, stack)\n",
    "\n",
    "\t# por fim visto que a funcao e recursiva stack é novamente passada a nova call, agora atualizada \n",
    "\n",
    "'''"
   ]
  },
  {
   "cell_type": "markdown",
   "metadata": {},
   "source": [
    "## 3. Working with queue"
   ]
  },
  {
   "cell_type": "markdown",
   "metadata": {},
   "source": [
    "In the codes above (DFS), stacks are used as basic structures, although BFS uses queues. Write two functions below that work with queues:\n",
    "\n",
    "- One that add data into a queue;\n",
    "- One that remove and returns the data from it.\n",
    "\n",
    "\n",
    "Tip: use queue objects from library collections."
   ]
  },
  {
   "cell_type": "code",
   "execution_count": 16,
   "metadata": {},
   "outputs": [
    {
     "name": "stdout",
     "output_type": "stream",
     "text": [
      "cena03\n",
      "cena02\n",
      "cena01\n"
     ]
    },
    {
     "ename": "IndexError",
     "evalue": "pop from an empty deque",
     "output_type": "error",
     "traceback": [
      "\u001b[0;31m---------------------------------------------------------------------------\u001b[0m",
      "\u001b[0;31mIndexError\u001b[0m                                Traceback (most recent call last)",
      "Cell \u001b[0;32mIn[16], line 19\u001b[0m\n\u001b[1;32m     17\u001b[0m \u001b[38;5;28mprint\u001b[39m(remove(q))\n\u001b[1;32m     18\u001b[0m \u001b[38;5;28mprint\u001b[39m(remove(q))\n\u001b[0;32m---> 19\u001b[0m \u001b[38;5;28mprint\u001b[39m(\u001b[43mremove\u001b[49m\u001b[43m(\u001b[49m\u001b[43mq\u001b[49m\u001b[43m)\u001b[49m)\n",
      "Cell \u001b[0;32mIn[16], line 10\u001b[0m, in \u001b[0;36mremove\u001b[0;34m(queue)\u001b[0m\n\u001b[1;32m      9\u001b[0m \u001b[38;5;28;01mdef\u001b[39;00m \u001b[38;5;21mremove\u001b[39m(queue):\n\u001b[0;32m---> 10\u001b[0m     \u001b[38;5;28;01mreturn\u001b[39;00m(\u001b[43mqueue\u001b[49m\u001b[38;5;241;43m.\u001b[39;49m\u001b[43mpop\u001b[49m\u001b[43m(\u001b[49m\u001b[43m)\u001b[49m)\n",
      "\u001b[0;31mIndexError\u001b[0m: pop from an empty deque"
     ]
    }
   ],
   "source": [
    "from collections import deque\n",
    "\n",
    "q = deque()\n",
    "\n",
    "def add(queue, cena):\n",
    "    queue.append(cena)\n",
    "    return queue\n",
    "\n",
    "def remove(queue):\n",
    "    return(queue.pop())\n",
    "\n",
    "add(q,'cena01')\n",
    "add(q,'cena02')\n",
    "add(q,'cena03')\n",
    "\n",
    "print(remove(q))\n",
    "print(remove(q))\n",
    "print(remove(q))\n",
    "print(remove(q))"
   ]
  },
  {
   "cell_type": "markdown",
   "metadata": {},
   "source": [
    "## 4. Visited Nodes"
   ]
  },
  {
   "cell_type": "markdown",
   "metadata": {},
   "source": [
    "# From exercise 1, why this line `visited_nodes.add(node)` and why this is important to DFS and BFS?\n",
    "\n",
    "\n",
    "\n",
    "\n",
    "\n",
    "A linha `visited_nodes.add(node)` é importante pois precisamos de manter um record dos nos do grafo ja previamente visitados.\n",
    "\n",
    "Tanto no bfs como no dfs temos que manter este record de forma a prevenir que o algoritmo faça percursos repetidos\n",
    "\n",
    "\n"
   ]
  }
 ],
 "metadata": {
  "kernelspec": {
   "display_name": "data_science",
   "language": "python",
   "name": "python3"
  },
  "language_info": {
   "codemirror_mode": {
    "name": "ipython",
    "version": 3
   },
   "file_extension": ".py",
   "mimetype": "text/x-python",
   "name": "python",
   "nbconvert_exporter": "python",
   "pygments_lexer": "ipython3",
   "version": "3.11.2"
  }
 },
 "nbformat": 4,
 "nbformat_minor": 2
}

{
 "cells": [
  {
   "cell_type": "code",
   "execution_count": null,
   "id": "509de2a2-cc34-404e-892c-7904b5a23c4e",
   "metadata": {},
   "outputs": [],
   "source": [
    "# Introdução aos agentes racionais clássicos em IA"
   ]
  }
 ],
 "metadata": {
  "kernelspec": {
   "display_name": "Python 3 (ipykernel)",
   "language": "python",
   "name": "python3"
  },
  "language_info": {
   "codemirror_mode": {
    "name": "ipython",
    "version": 3
   },
   "file_extension": ".py",
   "mimetype": "text/x-python",
   "name": "python",
   "nbconvert_exporter": "python",
   "pygments_lexer": "ipython3",
   "version": "3.11.2"
  }
 },
 "nbformat": 4,
 "nbformat_minor": 5
}

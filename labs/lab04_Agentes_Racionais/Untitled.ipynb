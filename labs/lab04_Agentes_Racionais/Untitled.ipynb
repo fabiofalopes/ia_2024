{
 "cells": [
  {
   "cell_type": "code",
   "execution_count": null,
   "id": "509de2a2-cc34-404e-892c-7904b5a23c4e",
   "metadata": {},
   "outputs": [],
   "source": [
    "# Introdução aos agentes racionais clássicos em IA"
   ]
  },
  {
   "cell_type": "code",
   "execution_count": 5,
   "id": "461b47c7",
   "metadata": {},
   "outputs": [],
   "source": [
    "class State:\n",
    "    # Define constants Max number of hippies and punks 3 each\n",
    "    MAX_HIPPIES = 3\n",
    "    MAX_PUNKS = 3\n",
    "    valid_moves = [(1, 0), (2, 0), (0, 1), (0, 2), (1, 1)] # (hippies, punks) on the boat\n",
    "\n",
    "    # Validate the state# list if tuples with valid moves\n",
    "    def validate_limits_state(self):\n",
    "        if self.hippie_l < 0 or self.hippie_l > State.MAX_HIPPIES:\n",
    "            raise ValueError('Invalid number of hippies on the left bank')\n",
    "        if self.punk_l < 0 or self.punk_l > State.MAX_PUNKS:\n",
    "            raise ValueError('Invalid number of punks on the left bank')\n",
    "        if self.hippie_r < 0 or self.hippie_r > State.MAX_HIPPIES:\n",
    "            raise ValueError('Invalid number of hippies on the right bank')\n",
    "        if self.punk_r < 0 or self.punk_r > State.MAX_PUNKS:\n",
    "            raise ValueError('Invalid number of punks on the right bank')\n",
    "        if self.hippie_l + self.hippie_r != 3 and self.punk_l + self.punk_r != 3:\n",
    "            raise ValueError('Invalid number of people (3 each team)')\n",
    "        if self.boat != 'L' and self.boat != 'R':\n",
    "            raise ValueError('Invalid boat position (L or R)')\n",
    "        if self.hippie_l == State.MAX_HIPPIES and self.punk_l == State.MAX_PUNKS and self.boat == 'R':\n",
    "            raise ValueError('Boat cannot be on the right bank with all hippies and punks on the left bank')\n",
    "        if self.hippie_r == State.MAX_HIPPIES and self.punk_r == State.MAX_PUNKS and self.boat == 'L':\n",
    "            raise ValueError('Boat cannot be on the left bank with all hippies and punks on the right bank')\n",
    "\n",
    "    # Constructor\n",
    "    def __init__(self, hippie_l, punk_l, hippie_r, punk_r, boat):\n",
    "        self.hippie_l = hippie_l\n",
    "        self.punk_l = punk_l\n",
    "        self.hippie_r = hippie_r\n",
    "        self.punk_r = punk_r\n",
    "        self.boat = boat\n",
    "        self.validate_limits_state()\n",
    "\n",
    "    # return valid moves\n",
    "    def valid_moves(self):\n",
    "        return self.valid_moves\n",
    "\n",
    "    # return as a tuple\n",
    "    def as_tuple(self):\n",
    "        return (self.hippie_l, self.punk_l, self.hippie_r, self.punk_r, self.boat)\n",
    "\n",
    "    # return as a list\n",
    "    def as_list(self):\n",
    "        return [self.hippie_l, self.punk_l, self.hippie_r, self.punk_r, self.boat]\n",
    "    \n",
    "    # dictionary representation\n",
    "    def as_dict(self):\n",
    "        return {'hippie_l': self.hippie_l, \n",
    "                'punk_l': self.punk_l, \n",
    "                'hippie_r': self.hippie_r, \n",
    "                'punk_r': self.punk_r, \n",
    "                'boat': self.boat\n",
    "                }\n",
    "\n",
    "    # return as a string\n",
    "    def __str__(self):\n",
    "        return f'({self.hippie_l}, {self.punk_l}, {self.hippie_r}, {self.punk_r}, {self.boat})'\n",
    "    \n",
    "    # fancy string representation\n",
    "    def fancy_str(self):\n",
    "        return f'({self.hippie_l} hippies, {self.punk_l} punks) <--- {self.boat} ---> ({self.hippie_r} hippies, {self.punk_r} punks)'\n",
    "    \n",
    "    # fancy string header\n",
    "    def fancy_header(self):\n",
    "        return f'{\"Left Bank\":^17}{\"Boat\":^18}{\"Right Bank\":^20}'\n",
    "\n",
    "    # string fancy with validation and parent state id \n",
    "\n",
    "    # return as a string\n",
    "    def __repr__(self):\n",
    "        return self.__str__() "
   ]
  },
  {
   "cell_type": "code",
   "execution_count": 4,
   "id": "e7d8cbfd",
   "metadata": {},
   "outputs": [
    {
     "name": "stdout",
     "output_type": "stream",
     "text": [
      "Valid moves (hippies, punks) on the boat:\n",
      "<bound method State.valid_moves of (3, 3, 0, 0, L)>\n",
      "\n",
      "    Left Bank           Boat            Right Bank     \n",
      "(3 hippies, 3 punks) <--- L ---> (0 hippies, 0 punks)\n"
     ]
    }
   ],
   "source": [
    "\n",
    "\n",
    "#(hippies_left, punks_left, hippies_right, punks_right, boat_position ('L', 'R')\n",
    "\n",
    "initial_state = State(3, 3, 0, 0, 'L')\n",
    "\n",
    "print(f\"Valid moves (hippies, punks) on the boat:\\n{initial_state.valid_moves()}\\n\")\n",
    "\n",
    "print(initial_state.fancy_header())\n",
    "print(initial_state.fancy_str())\n",
    "\n",
    "\n",
    "#def get_valid_successor_states_and_moves(initial_state, valid_moves = valid_boat_moves):\n",
    "    \n"
   ]
  },
  {
   "cell_type": "markdown",
   "id": "168af87b",
   "metadata": {},
   "source": [
    "No puzzle descrito na aula anterior, três hippies e três punks devem atravessar um rio usando um barco que\n",
    "pode transportar, no máximo, duas pessoas. "
   ]
  },
  {
   "cell_type": "code",
   "execution_count": null,
   "id": "260ce5c8",
   "metadata": {},
   "outputs": [],
   "source": [
    "\"\"\"\n",
    "\n",
    "invalid moves\n",
    "- if punks <= hippies\n",
    "- if not match valid moves with current state\n",
    "\n",
    "//\n",
    "\n",
    "\n",
    "\n",
    "\n",
    "\"\"\""
   ]
  }
 ],
 "metadata": {
  "kernelspec": {
   "display_name": "Python 3 (ipykernel)",
   "language": "python",
   "name": "python3"
  },
  "language_info": {
   "codemirror_mode": {
    "name": "ipython",
    "version": 3
   },
   "file_extension": ".py",
   "mimetype": "text/x-python",
   "name": "python",
   "nbconvert_exporter": "python",
   "pygments_lexer": "ipython3",
   "version": "3.11.2"
  }
 },
 "nbformat": 4,
 "nbformat_minor": 5
}

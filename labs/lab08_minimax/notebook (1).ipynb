{
 "cells": [
  {
   "cell_type": "markdown",
   "metadata": {},
   "source": [
    "Queremos duas coisas: \n",
    "- lista de tuplas para representar as adjacencias entres nos do grafo\n",
    "- dicionario que contem os pares nos: valor relativos ao respetivo grafo\n",
    "\n",
    "Quantidade de noś no grafo: (Se b=2 e d=3)\n",
    "- d = 0 -> $b^0$ = 1\n",
    "- d = 1 -> $b^1$ = 2\n",
    "- d = 2 -> $b^2$ = 4\n",
    "- d = 3 -> $b^3$ = 8\n",
    "\n",
    "- d = n -> $b^n$\n",
    "\n",
    "Por cada nivel. Para determinada depth, temos que somar a totalidade do que foi demonstrado em cima\n",
    "\n",
    "n = 1 + $b^1$ + $b^2$ + $b^3$ + $b^{max}$\n"
   ]
  },
  {
   "cell_type": "code",
   "execution_count": 28,
   "metadata": {},
   "outputs": [],
   "source": [
    "#library para plot do grafo\n",
    "import networkx as nx\n",
    "\n",
    "#layout tipo arvore\n",
    "from networkx.drawing.nx_pydot import graphviz_layout\n",
    "\n",
    "#library para plot do grafo\n",
    "import matplotlib.pyplot as plt\n",
    "\n",
    "#biblioteca random\n",
    "import random"
   ]
  },
  {
   "cell_type": "code",
   "execution_count": null,
   "metadata": {},
   "outputs": [],
   "source": []
  },
  {
   "cell_type": "code",
   "execution_count": 29,
   "metadata": {},
   "outputs": [],
   "source": [
    "def graf_id_list(b,d):\n",
    "    num_nodes = int((pow(b,d+1)-1)/(b-1))\n",
    "    list_of_nodes = [i for i in range(1,num_nodes+1)]\n",
    "    return list_of_nodes"
   ]
  },
  {
   "cell_type": "code",
   "execution_count": 30,
   "metadata": {},
   "outputs": [],
   "source": [
    "def generate_adjancies_list(adjacencias,node_list,parent_id,branching_factor,depth,current_depth):\n",
    "    if current_depth == depth:\n",
    "        return adjacencias\n",
    "    for i in range(1, branching_factor + 1):\n",
    "        filho_id = node_list.pop(0)\n",
    "        adjacencias.append((parent_id,filho_id))\n",
    "        generate_adjancies_list(adjacencias,node_list,filho_id,branching_factor,depth,current_depth+1)\n",
    "    return adjacencias"
   ]
  },
  {
   "cell_type": "code",
   "execution_count": 31,
   "metadata": {},
   "outputs": [
    {
     "name": "stdout",
     "output_type": "stream",
     "text": [
      "[1, 2, 3, 4, 5, 6, 7]\n",
      "[(1, 2), (2, 3), (2, 4), (1, 5), (5, 6), (5, 7)]\n"
     ]
    }
   ],
   "source": [
    "_depth = 2\n",
    "_branching_factor = 2\n",
    "\n",
    "_node_id_list = graf_id_list(_branching_factor,_depth)\n",
    "print(_node_id_list)\n",
    "_pai = _node_id_list.pop(0)\n",
    "\n",
    "adjancies = generate_adjancies_list([],_node_id_list,_pai,_branching_factor,_depth,0)\n",
    "print(adjancies)"
   ]
  },
  {
   "cell_type": "markdown",
   "metadata": {},
   "source": [
    "## Exercício 1:\n",
    "\n",
    "Gerar grafos aleatórios com branching factor b e profundidade d com valor para os elementos da sua base aleatórios de -10 até 10."
   ]
  },
  {
   "cell_type": "markdown",
   "metadata": {},
   "source": [
    "a) Para um dado depth factor `d` e para um Branching factor `b`, gere um codigo em python que produza um grafo, representando-o no formato lista de tuplas.\n",
    "\n",
    "Ex: `[(1,2),(1,4), (4,5)....]`\n",
    "\n",
    "Para o caso acima o nó 1 tem uma ligação com o nó dois e 4. O nó 4 tem uma ligação com o nó 5."
   ]
  },
  {
   "cell_type": "code",
   "execution_count": null,
   "metadata": {},
   "outputs": [],
   "source": []
  },
  {
   "cell_type": "markdown",
   "metadata": {},
   "source": [
    "b) Em seguinda atribua um valor (utility) ou um valor para os nós na base do grafo. Use um dicionário `labels_dic` para faze-lo. Comece aqui a trabalhar com a biblioteca `networkx` ela é especializada em grafos. (Dica: pesquise o método `.degree` de um grafo)\n",
    "\n",
    "Ex: `{1:'', 2:'', 9:'',...}`"
   ]
  },
  {
   "cell_type": "code",
   "execution_count": 32,
   "metadata": {},
   "outputs": [
    {
     "data": {
      "text/plain": [
       "{1: None, 2: None, 3: 1, 4: 7, 5: None, 6: -9, 7: -6}"
      ]
     },
     "execution_count": 32,
     "metadata": {},
     "output_type": "execute_result"
    }
   ],
   "source": [
    "# cria o node\n",
    "G = nx.DiGraph()\n",
    "\n",
    "G.add_edges_from(adjancies)\n",
    "\n",
    "labels_dic = {node:random.randint(-10, 10) if G.degree[node]==1 else None for node in G}\n",
    "\n",
    "labels_dic"
   ]
  },
  {
   "cell_type": "markdown",
   "metadata": {},
   "source": [
    "c) Agora vamos tentar imprimir o que gerou. Também faz parte tentar receber funções de outros programadores e tentar atender os parametros de entrada. Utilizando a funcao dada abaixo atenda os requisitos do input e veja o que acontece."
   ]
  },
  {
   "cell_type": "code",
   "execution_count": 33,
   "metadata": {},
   "outputs": [
    {
     "name": "stdout",
     "output_type": "stream",
     "text": [
      "Nodes: [(1, {'value': None}), (2, {'value': None}), (3, {'value': 1}), (4, {'value': 7}), (5, {'value': None}), (6, {'value': -9}), (7, {'value': -6})]\n",
      "Edges: [(1, 2), (1, 5), (2, 3), (2, 4), (5, 6), (5, 7)]\n"
     ]
    },
    {
     "data": {
      "image/png": "[encoded data removed]",
      "text/plain": [
       "<Figure size 640x480 with 1 Axes>"
      ]
     },
     "metadata": {},
     "output_type": "display_data"
    }
   ],
   "source": [
    "#funcao que printa o grafo\n",
    "def print_grafo(graph,labels_dic,values=False):\n",
    "\n",
    "  #parametros e entrada\n",
    "  ######\n",
    "  #list_edges deve ser uma lista de tuplas\n",
    "  #list_edges = [(1,2),(3,4)....]\n",
    "  #Cada edge representa uma ligacao entre nós\n",
    "  #values (default False) é se quer imprimir o grafo com os nomes dos nós ou com seus valores atribuidos\n",
    "  ######\n",
    "  #labels_dic é um dicionário com o peso de cada nó\n",
    "  #labels_dic = {1:4,2:2,3:5,....}\n",
    "\n",
    "  #cria o node\n",
    "  G = nx.DiGraph()\n",
    "\n",
    "  #insere os nós e os edges\n",
    "  G.add_edges_from(graph)\n",
    "\n",
    "  #gera a posicao e organiza em arvore\n",
    "  pos = graphviz_layout(G, prog=\"dot\")\n",
    "\n",
    "  for node in G:\n",
    "    G.nodes[node][\"value\"] = labels_dic[node]\n",
    "\n",
    "  # Printa a informacao do grafo (opcional)\n",
    "  print(\"Nodes:\", G.nodes(data=True))\n",
    "  print(\"Edges:\", G.edges())\n",
    "\n",
    "  #faz plot\n",
    "  if values:\n",
    "    nx.draw(G, pos,with_labels=True,labels=labels_dic)\n",
    "  else:\n",
    "    nx.draw(G,pos,with_labels=True)\n",
    "\n",
    "  plt.draw()\n",
    "  plt.show()\n",
    "\n",
    "  return G\n",
    "\n",
    "\n",
    "G = print_grafo(adjancies,labels_dic,True)"
   ]
  },
  {
   "cell_type": "code",
   "execution_count": 34,
   "metadata": {},
   "outputs": [
    {
     "name": "stdout",
     "output_type": "stream",
     "text": [
      "Nodes: [(1, {'value': None}), (2, {'value': None}), (3, {'value': 1}), (4, {'value': 7}), (5, {'value': None}), (6, {'value': -9}), (7, {'value': -6})]\n",
      "Edges: [(1, 2), (1, 5), (2, 3), (2, 4), (5, 6), (5, 7)]\n"
     ]
    },
    {
     "data": {
      "image/png": "[encoded data removed]",
      "text/plain": [
       "<Figure size 640x480 with 1 Axes>"
      ]
     },
     "metadata": {},
     "output_type": "display_data"
    }
   ],
   "source": [
    "G = print_grafo(adjancies,labels_dic,False)"
   ]
  },
  {
   "cell_type": "markdown",
   "metadata": {},
   "source": [
    "## Exercício 2:\n",
    "\n",
    "Agora ja tem um bom grafo para trabalhar com minimax. crie uma função que receba como parâmetro o grafo que você criou acima, nó alvo e qual comportamento de jogador esse nó deve ter (max ou min). Sua função deve retornar qual jogada o jogador deve fazer logo a seguir o nó alvo."
   ]
  },
  {
   "cell_type": "code",
   "execution_count": 35,
   "metadata": {},
   "outputs": [],
   "source": [
    "'''\n",
    "\n",
    "Pseudo-code for MinMax Algorithm:\n",
    "    \n",
    "function minimax(node, depth, maximizingPlayer) is  \n",
    "\tif depth == 0 or node is a terminal node then  \n",
    "\t\treturn static evaluation of node  \n",
    "  \n",
    "\tif MaximizingPlayer then // for Maximizer Player  \n",
    "\t\tmaxEva = -infinity            \n",
    " \t\tfor each child of node do  \n",
    " \t\t\teva = minimax(child, depth - 1, false)  \n",
    "\t\t\tmaxEva = max(maxEva,eva) // gives Maximum of the values  \n",
    "\t\treturn maxEva  \n",
    "\n",
    "\telse // for Minimizer player  \n",
    " \t\tminEva = +infinity   \n",
    " \t\tfor each child of node do  \n",
    " \t\t\teva = minimax(child, depth - 1, true)  \n",
    " \t\t\tminEva = min(minEva, eva) //gives minimum of the values  \n",
    " \t\treturn minEva  \n",
    "\n",
    " '''\n",
    "\n",
    "\n",
    "def minimax(graf, node, depth, maximizingPlayer):\n",
    "    def _minimax(graf, current_node, current_depth, maximizingPlayer):\n",
    "        # Check for terminal condition: if depth is 0 or node has a value\n",
    "        # Se depth = 0 \n",
    "        # ou se existe valor no current node -> devolve o valor\n",
    "        if current_depth == 0 or \"value\" in graf.nodes[current_node]:\n",
    "            return graf.nodes[current_node].get(\"value\", 0) \n",
    "\n",
    "        if maximizingPlayer:\n",
    "            best_value = float(\"-inf\")\n",
    "            for child in graf.successors(current_node):\n",
    "                val = _minimax(graf, child, current_depth - 1, False)\n",
    "                best_value = max(best_value, val)\n",
    "            return best_value\n",
    "        else:\n",
    "            best_value = float(\"inf\")\n",
    "            for child in graf.successors(current_node):\n",
    "                val = _minimax(graf, child, current_depth - 1, True)\n",
    "                best_value = min(best_value, val)\n",
    "            return best_value\n",
    "\n",
    "    # Main minimax call\n",
    "    best_move = None\n",
    "    if maximizingPlayer:\n",
    "        best_value = float(\"-inf\")\n",
    "        for child in graf.successors(node):\n",
    "            val = _minimax(graf, child, depth - 1, False)\n",
    "            if best_value == float(\"-inf\"):\n",
    "                best_value = val\n",
    "                best_move = child\n",
    "\t\t\telif val > best_value:\n",
    "                best_value = val\n",
    "                best_move = child\n",
    "    else:\n",
    "        best_value = float(\"inf\")\n",
    "        for child in graf.successors(node):\n",
    "            val = _minimax(graf, child, depth - 1, True)\n",
    "            if best_value == float(\"inf\") or val < best_value:\n",
    "                best_value = val\n",
    "                best_move = child\n",
    "\n",
    "    return best_move, best_value\n",
    "\n",
    "\n",
    "\n"
   ]
  },
  {
   "cell_type": "code",
   "execution_count": 36,
   "metadata": {},
   "outputs": [
    {
     "ename": "TypeError",
     "evalue": "'>' not supported between instances of 'NoneType' and 'NoneType'",
     "output_type": "error",
     "traceback": [
      "\u001b[0;31m---------------------------------------------------------------------------\u001b[0m",
      "\u001b[0;31mTypeError\u001b[0m                                 Traceback (most recent call last)",
      "Cell \u001b[0;32mIn[36], line 2\u001b[0m\n\u001b[1;32m      1\u001b[0m \u001b[38;5;66;03m# Call minimax with a specific depth\u001b[39;00m\n\u001b[0;32m----> 2\u001b[0m best_move, best_value \u001b[38;5;241m=\u001b[39m \u001b[43mminimax\u001b[49m\u001b[43m(\u001b[49m\u001b[43mG\u001b[49m\u001b[43m,\u001b[49m\u001b[43m \u001b[49m\u001b[38;5;241;43m1\u001b[39;49m\u001b[43m,\u001b[49m\u001b[43m \u001b[49m\u001b[38;5;241;43m3\u001b[39;49m\u001b[43m,\u001b[49m\u001b[43m \u001b[49m\u001b[38;5;28;43;01mTrue\u001b[39;49;00m\u001b[43m)\u001b[49m\n\u001b[1;32m      3\u001b[0m \u001b[38;5;28mprint\u001b[39m(\u001b[38;5;124mf\u001b[39m\u001b[38;5;124m\"\u001b[39m\u001b[38;5;124mBest move: \u001b[39m\u001b[38;5;132;01m{\u001b[39;00mbest_move\u001b[38;5;132;01m}\u001b[39;00m\u001b[38;5;124m, Best value: \u001b[39m\u001b[38;5;132;01m{\u001b[39;00mbest_value\u001b[38;5;132;01m}\u001b[39;00m\u001b[38;5;124m\"\u001b[39m)\n",
      "Cell \u001b[0;32mIn[35], line 53\u001b[0m, in \u001b[0;36mminimax\u001b[0;34m(graf, node, depth, maximizingPlayer)\u001b[0m\n\u001b[1;32m     51\u001b[0m \u001b[38;5;28;01mfor\u001b[39;00m child \u001b[38;5;129;01min\u001b[39;00m graf\u001b[38;5;241m.\u001b[39msuccessors(node):\n\u001b[1;32m     52\u001b[0m     val \u001b[38;5;241m=\u001b[39m _minimax(graf, child, depth \u001b[38;5;241m-\u001b[39m \u001b[38;5;241m1\u001b[39m, \u001b[38;5;28;01mFalse\u001b[39;00m)\n\u001b[0;32m---> 53\u001b[0m     \u001b[38;5;28;01mif\u001b[39;00m best_value \u001b[38;5;241m==\u001b[39m \u001b[38;5;28mfloat\u001b[39m(\u001b[38;5;124m\"\u001b[39m\u001b[38;5;124m-inf\u001b[39m\u001b[38;5;124m\"\u001b[39m) \u001b[38;5;129;01mor\u001b[39;00m \u001b[43mval\u001b[49m\u001b[43m \u001b[49m\u001b[38;5;241;43m>\u001b[39;49m\u001b[43m \u001b[49m\u001b[43mbest_value\u001b[49m:\n\u001b[1;32m     54\u001b[0m         best_value \u001b[38;5;241m=\u001b[39m val\n\u001b[1;32m     55\u001b[0m         best_move \u001b[38;5;241m=\u001b[39m child\n",
      "\u001b[0;31mTypeError\u001b[0m: '>' not supported between instances of 'NoneType' and 'NoneType'"
     ]
    }
   ],
   "source": [
    "# Call minimax with a specific depth\n",
    "best_move, best_value = minimax(G, 1, 3, True)\n",
    "print(f\"Best move: {best_move}, Best value: {best_value}\")"
   ]
  },
  {
   "cell_type": "code",
   "execution_count": null,
   "metadata": {},
   "outputs": [],
   "source": [
    "### Referencia print notebook lab\n",
    "\n",
    "#Nodes: [(0, {'value': ''}), (1, {'value': ''}), (2, {'value': ''}), (3, {'value': 4}), (4, {'value': 3}), (5, {'value': ''}), (6, {'value': 6}), (7, {'value': 9}), (8, {'value': ''}), (9, {'value': ''}), (10, {'value': 7}), (11, {'value': 4}), (12, {'value': ''}), (13, {'value': -9}), (14, {'value': 10})]\n",
    "#Edges: [(0, 1), (0, 8), (1, 2), (1, 5), (2, 3), (2, 4), (5, 6), (5, 7), (8, 9), (8, 12), (9, 10), (9, 11), (12, 13), (12, 14)]"
   ]
  },
  {
   "cell_type": "markdown",
   "metadata": {},
   "source": [
    "## Exercício 3:\n",
    "\n",
    "Que melhoria você propoe para o seu codigo acima? Discuta isso com o professor e veja sobre Alpha Beta Pruning. Implemente a rotina no seu código acima. O valor muda? O que muda?"
   ]
  },
  {
   "cell_type": "code",
   "execution_count": null,
   "metadata": {},
   "outputs": [],
   "source": [
    "def minimax_ab(graf, node, depth, maximizingPlayer):\n",
    "    def _minimax(graf, current_node, current_depth, maximizingPlayer,alpha,beta):\n",
    "        # Check for terminal condition: if depth is 0 or node has a value\n",
    "        # Se depth = 0 \n",
    "        # ou se existe valor no current node -> devolve o valor\n",
    "        if current_depth == 0 or \"value\" in graf.nodes[current_node]:\n",
    "            return graf.nodes[current_node].get(\"value\", 0) \n",
    "\n",
    "        if maximizingPlayer:\n",
    "            best_value = float(\"-inf\")\n",
    "            for child in graf.successors(current_node):\n",
    "                val = _minimax(graf, child, current_depth - 1, False, alpha, beta)\n",
    "                best_value = max(best_value, val)\n",
    "                alpha = max(alpha, best_value)\n",
    "                if alpha <= beta:\n",
    "                    # corta pois 'max' quer o maior possivel\n",
    "                    break\n",
    "            return best_value\n",
    "        else:\n",
    "            best_value = float(\"inf\")\n",
    "            for child in graf.successors(current_node):\n",
    "                val = _minimax(graf, child, current_depth - 1, True, alpha, beta)\n",
    "                best_value = min(best_value, val)\n",
    "                beta = min(beta,best_value)\n",
    "                if beta <= alpha:\n",
    "                    # corta pois 'min' quer o maior possivel\n",
    "                    break\n",
    "            return best_value\n",
    "\n",
    "    # Main minimax call\n",
    "    best_move = None\n",
    "    alpha = float(\"-inf\")\n",
    "    beta = float(\"inf\")\n",
    "\n",
    "    if maximizingPlayer:\n",
    "        best_value = float(\"-inf\")\n",
    "        for child in graf.successors(node):\n",
    "            val = _minimax(graf, child, depth - 1, False, alpha, beta)\n",
    "            if val > best_value:\n",
    "                best_value = val\n",
    "                best_move = child\n",
    "                alpha = max(alpha,best_value)\n",
    "    else:\n",
    "        best_value = float(\"inf\")\n",
    "        for child in graf.successors(node):\n",
    "            val = _minimax(graf, child, depth - 1, True, alpha, beta)\n",
    "            if val < best_value:\n",
    "                best_value = val\n",
    "                best_move = child   \n",
    "                beta = min(beta,best_value)\n",
    "\n",
    "    return best_move, best_value"
   ]
  },
  {
   "cell_type": "markdown",
   "metadata": {},
   "source": []
  },
  {
   "cell_type": "code",
   "execution_count": null,
   "metadata": {},
   "outputs": [
    {
     "ename": "NameError",
     "evalue": "name 'G' is not defined",
     "output_type": "error",
     "traceback": [
      "\u001b[0;31m---------------------------------------------------------------------------\u001b[0m",
      "\u001b[0;31mNameError\u001b[0m                                 Traceback (most recent call last)",
      "\u001b[1;32m/home/user/ai-minimax/notebook.ipynb Cell 22\u001b[0m line \u001b[0;36m3\n\u001b[1;32m      <a href='vscode-notebook-cell://monospace-ai-minimax-1715436897535.cluster-qtqwjj3wgzff6uxtk26wj7fzq6.cloudworkstations.dev/home/user/ai-minimax/notebook.ipynb#X30sdnNjb2RlLXJlbW90ZQ%3D%3D?line=0'>1</a>\u001b[0m \u001b[39m# call minimax with alpha beta prunning \u001b[39;00m\n\u001b[0;32m----> <a href='vscode-notebook-cell://monospace-ai-minimax-1715436897535.cluster-qtqwjj3wgzff6uxtk26wj7fzq6.cloudworkstations.dev/home/user/ai-minimax/notebook.ipynb#X30sdnNjb2RlLXJlbW90ZQ%3D%3D?line=2'>3</a>\u001b[0m move,value \u001b[39m=\u001b[39m minimax_ab(G, \u001b[39m1\u001b[39m, \u001b[39m2\u001b[39m, \u001b[39mTrue\u001b[39;00m)\n\u001b[1;32m      <a href='vscode-notebook-cell://monospace-ai-minimax-1715436897535.cluster-qtqwjj3wgzff6uxtk26wj7fzq6.cloudworkstations.dev/home/user/ai-minimax/notebook.ipynb#X30sdnNjb2RlLXJlbW90ZQ%3D%3D?line=3'>4</a>\u001b[0m \u001b[39mprint\u001b[39m(move)\n\u001b[1;32m      <a href='vscode-notebook-cell://monospace-ai-minimax-1715436897535.cluster-qtqwjj3wgzff6uxtk26wj7fzq6.cloudworkstations.dev/home/user/ai-minimax/notebook.ipynb#X30sdnNjb2RlLXJlbW90ZQ%3D%3D?line=4'>5</a>\u001b[0m \u001b[39mprint\u001b[39m(value)\n",
      "\u001b[0;31mNameError\u001b[0m: name 'G' is not defined"
     ]
    }
   ],
   "source": [
    "# call minimax with alpha beta prunning \n",
    "\n",
    "move,value = minimax_ab(G, 1, 2, True)\n",
    "print(move)\n",
    "print(value)"
   ]
  }
 ],
 "metadata": {
  "kernelspec": {
   "display_name": ".venv",
   "language": "python",
   "name": "python3"
  },
  "language_info": {
   "codemirror_mode": {
    "name": "ipython",
    "version": 3
   },
   "file_extension": ".py",
   "mimetype": "text/x-python",
   "name": "python",
   "nbconvert_exporter": "python",
   "pygments_lexer": "ipython3",
   "version": "3.11.2"
  }
 },
 "nbformat": 4,
 "nbformat_minor": 2
}

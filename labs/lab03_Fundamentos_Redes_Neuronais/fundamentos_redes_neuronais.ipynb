{
 "cells": [
  {
   "cell_type": "code",
   "execution_count": 8,
   "metadata": {},
   "outputs": [
    {
     "name": "stdout",
     "output_type": "stream",
     "text": [
      "[[0.50418393]]\n"
     ]
    }
   ],
   "source": [
    "import numpy as np\n",
    "\n",
    "def sigmoid(x):\n",
    "    return 1 / (1 + np.exp(-x))\n",
    "\n",
    "def sigmoid_derivative(x):\n",
    "    return x * (1 - x)\n",
    "\n",
    "def initialize_weights(input_size, output_size):\n",
    "    return np.random.uniform(size=(input_size, output_size))\n",
    "\n",
    "def forward_propagation(inputs, weights):\n",
    "    return sigmoid(np.dot(inputs, weights))\n",
    "\n",
    "def backward_propagation(inputs, outputs, predicted_outputs, weights, learning_rate):\n",
    "    error = outputs - predicted_outputs\n",
    "    delta = error * sigmoid_derivative(predicted_outputs)\n",
    "    weights += learning_rate * np.dot(inputs.T, delta)\n",
    "    return weights\n",
    "\n",
    "def train_logic_gate(inputs, outputs, num_epochs, learning_rate):\n",
    "    input_size = len(inputs[0])\n",
    "    output_size = len(outputs[0])\n",
    "\n",
    "    weights = initialize_weights(input_size, output_size)\n",
    "\n",
    "    for epoch in range(num_epochs):\n",
    "        for i in range(len(inputs)):\n",
    "            current_input = np.array(inputs[i]).reshape(1, -1)\n",
    "            current_output = np.array(outputs[i]).reshape(1, -1)\n",
    "\n",
    "            predicted_output = forward_propagation(current_input, weights)\n",
    "\n",
    "            weights = backward_propagation(current_input, current_output, predicted_output, weights, learning_rate)\n",
    "\n",
    "    return weights\n",
    "\n",
    "# Example usage for AND gate\n",
    "inputs = [\n",
    "    [0, 0],\n",
    "    [0, 1],\n",
    "    [1, 0],\n",
    "    [1, 1]\n",
    "]\n",
    "\n",
    "outputs = [\n",
    "    [0],\n",
    "    [0],\n",
    "    [0],\n",
    "    [1]\n",
    "]\n",
    "\n",
    "num_epochs = 10000\n",
    "learning_rate = 0.1\n",
    "\n",
    "trained_weights = train_logic_gate(inputs, outputs, num_epochs, learning_rate)\n",
    "\n",
    "# Test the trained AND gate\n",
    "test_input = np.array([1, 1]).reshape(1, -1)\n",
    "predicted_output = forward_propagation(test_input, trained_weights)\n",
    "print(predicted_output)\n"
   ]
  },
  {
   "cell_type": "code",
   "execution_count": 9,
   "metadata": {},
   "outputs": [
    {
     "name": "stdout",
     "output_type": "stream",
     "text": [
      "AND output: 0.2689414213699951\n",
      "OR output: 0.5\n",
      "NOT output: 0.6224593312018546\n"
     ]
    }
   ],
   "source": [
    "import numpy as np\n",
    "\n",
    "# Activation function\n",
    "def sigmoid(x):\n",
    "    return 1 / (1 + np.exp(-x))\n",
    "\n",
    "# Neuron class\n",
    "class Neuron:\n",
    "    def __init__(self, weights, bias):\n",
    "        self.weights = weights\n",
    "        self.bias = bias\n",
    "\n",
    "    def forward(self, inputs):\n",
    "        dot_product = np.dot(inputs, self.weights) + self.bias\n",
    "        output = sigmoid(dot_product)\n",
    "        return output\n",
    "\n",
    "# Logic gates (AND, OR, NOT) using neurons\n",
    "def AND(inputs):\n",
    "    weights = np.array([0.5, 0.5])  # Adjust weights for desired behavior\n",
    "    bias = -1.5                   # Adjust bias for desired behavior\n",
    "    neuron = Neuron(weights, bias)\n",
    "    return neuron.forward(inputs)\n",
    "\n",
    "def OR(inputs):\n",
    "    weights = np.array([1, 1])    # Adjust weights for desired behavior\n",
    "    bias = -1                     # Adjust bias for desired behavior\n",
    "    neuron = Neuron(weights, bias)\n",
    "    return neuron.forward(inputs)\n",
    "\n",
    "def NOT(input):\n",
    "    weights = -1                   # Adjust weight for desired behavior\n",
    "    bias = 0.5                     # Adjust bias for desired behavior\n",
    "    return sigmoid(input * weights + bias)  # Single input for NOT gate\n",
    "\n",
    "# Example usage\n",
    "inputs = np.array([0, 1])\n",
    "output_AND = AND(inputs)\n",
    "output_OR = OR(inputs)\n",
    "output_NOT = NOT(inputs[0])\n",
    "\n",
    "print(\"AND output:\", output_AND)\n",
    "print(\"OR output:\", output_OR)\n",
    "print(\"NOT output:\", output_NOT)\n"
   ]
  }
 ],
 "metadata": {
  "kernelspec": {
   "display_name": ".venv",
   "language": "python",
   "name": "python3"
  },
  "language_info": {
   "codemirror_mode": {
    "name": "ipython",
    "version": 3
   },
   "file_extension": ".py",
   "mimetype": "text/x-python",
   "name": "python",
   "nbconvert_exporter": "python",
   "pygments_lexer": "ipython3",
   "version": "3.11.2"
  }
 },
 "nbformat": 4,
 "nbformat_minor": 2
}

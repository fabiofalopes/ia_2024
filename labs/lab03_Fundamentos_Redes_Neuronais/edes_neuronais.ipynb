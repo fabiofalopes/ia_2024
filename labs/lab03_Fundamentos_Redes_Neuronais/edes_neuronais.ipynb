{
 "cells": [
  {
   "cell_type": "markdown",
   "id": "3a0fc812",
   "metadata": {},
   "source": [
    "# Trabalho prático\n",
    "\n",
    "O mecanismo básico de uma rede neuronal é o implementado pela saturação de um neurónio num momento\n",
    "t, o qual, na ausência de inibidores, faz com que o neurónio “dispare” em t + 1 enviando um pulso através\n",
    "do axónio. Outro mecanismo tem a ver com como podemos implementar controlo de sinais que passam\n",
    "pela rede neuronal. A Figura 2.6 ilustra este exemplo. Aqui usamos uma fibra de inibição para bloquear a\n",
    "saída quando queremos bloqueá-la. Isso significa que se a fibra de entrada estiver constantemente a pulsar,\n",
    "e queremos interromper seu fluxo, tudo o que precisamos fazer é enviar pulsos através da fibra de controlo,\n",
    "e isso interromperá que o neurónio emita pulsos de saída, ainda quando o seu núcleo estiver saturado. É\n",
    "importante recordar sempre que o processo de entrada e saturação acontecem no momento t e a saída só\n",
    "acontece em t + 1.\n",
    "\n",
    "\n",
    "O outro mecanismo essencial para o funcionamento de uma rede neuronal é o feedback loop, o qual im-\n",
    "plementa a capacidade de memória. A Figura 2.5 corresponde com a implementação mais básica deste\n",
    "mecanismo. A partir de algum momento t no qual a fibra de entrada tinha um pulso, o neurónio continuará\n",
    "a emitir pulso de saída indefinidamente porque a própria saída tem uma ramificação que volta a saturar o\n",
    "neurónio.\n"
   ]
  },
  {
   "cell_type": "markdown",
   "id": "1e87bc43",
   "metadata": {},
   "source": [
    "# Problema 1: Controlo\n",
    "Considere a situação em que temos uma fibra ligada ao meio exterior a qual em algum momento poderá\n",
    "ter um pulso. Imagine que queremos implementar um mecanismo que nos permita controlar para onde vai\n",
    "esse pulso, e temos dois receptores R1 e R2. Desenhe uma arquitetura de McCulloch e Pitts que permita\n",
    "implementar este mecanismo de controlo. Dica: o controlo terá de ser implementado através duma fibra\n",
    "específica para essa funcção, de forma que quando a fibra de controlo não estiver a pulsar, a entrada vai para\n",
    "o neurónio R1 mas quando estiver a pulsar, a entrada vai para o neurónio R2 ."
   ]
  },
  {
   "cell_type": "code",
   "execution_count": null,
   "id": "6997a8ef",
   "metadata": {
    "vscode": {
     "languageId": "python"
    }
   },
   "outputs": [],
   "source": [
    "```python\n",
    "import numpy as np\n",
    "\n",
    "def sigmoid(x):\n",
    "    return 1 / (1 + np.exp(-x))\n",
    "\n",
    "def sigmoid_derivative(x):\n",
    "    return x * (1 - x)\n",
    "\n",
    "def initialize_weights(input_size, output_size):\n",
    "    return np.random.uniform(size=(input_size, output_size))\n",
    "\n",
    "def forward_propagation(inputs, weights):\n",
    "    return sigmoid(np.dot(inputs, weights))\n",
    "\n",
    "def backward_propagation(inputs, outputs, predicted_outputs, weights, learning_rate):\n",
    "    error = outputs - predicted_outputs\n",
    "    delta = error * sigmoid_derivative(predicted_outputs)\n",
    "    weights += learning_rate * np.dot(inputs.T, delta)\n",
    "    return weights\n",
    "\n",
    "def train_logic_gate(inputs, outputs, num_epochs, learning_rate):\n",
    "    input_size = len(inputs[0])\n",
    "    output_size = len(outputs[0])\n",
    "\n",
    "    weights = initialize_weights(input_size, output_size)\n",
    "\n",
    "    for epoch in range(num_epochs):\n",
    "        for i in range(len(inputs)):\n",
    "            current_input = np.array(inputs[i]).reshape(1, -1)\n",
    "            current_output = np.array(outputs[i]).reshape(1, -1)\n",
    "\n",
    "            predicted_output = forward_propagation(current_input, weights)\n",
    "\n",
    "            weights = backward_propagation(current_input, current_output, predicted_output, weights, learning_rate)\n",
    "\n",
    "    return weights\n",
    "\n",
    "# Example usage for AND gate\n",
    "inputs = [\n",
    "    [0, 0],\n",
    "    [0, 1],\n",
    "    [1, 0],\n",
    "    [1, 1]\n",
    "]\n",
    "\n",
    "outputs = [\n",
    "    [0],\n",
    "    [0],\n",
    "    [0],\n",
    "    [1]\n",
    "]\n",
    "\n",
    "num_epochs = 10000\n",
    "learning_rate = 0.1\n",
    "\n",
    "trained_weights = train_logic_gate(inputs, outputs, num_epochs, learning_rate)\n",
    "\n",
    "# Test the trained AND gate\n",
    "test_input = np.array([1, 1]).reshape(1, -1)\n",
    "predicted_output = forward_propagation(test_input, trained_weights)\n",
    "print(predicted_output)\n",
    "```"
   ]
  }
 ],
 "metadata": {
  "kernelspec": {
   "display_name": "",
   "name": ""
  },
  "language_info": {
   "name": ""
  }
 },
 "nbformat": 4,
 "nbformat_minor": 5
}

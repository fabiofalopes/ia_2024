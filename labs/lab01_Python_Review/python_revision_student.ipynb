{
 "cells": [
  {
   "cell_type": "markdown",
   "metadata": {
    "id": "ekpNEPoUccNJ"
   },
   "source": [
    "# Lab 1 - Python review\n",
    "\n",
    "## Purpose\n",
    "The purpose of this class is to strengthen and practice your knowledge of Python, mainly involved in data structures and commands that we will use during the semester.\n",
    "\n",
    "## Methodology\n",
    "Review basic operations, data types and programming concepts in Python. Solve programming challenges.\n",
    "\n",
    "## Results\n",
    "Fast track to programming in Python.\n",
    "\n",
    "---\n",
    "\n",
    "## Setup\n",
    "\n",
    "### Library import"
   ]
  },
  {
   "cell_type": "code",
   "execution_count": 42,
   "metadata": {
    "executionInfo": {
     "elapsed": 3,
     "status": "ok",
     "timestamp": 1707734663705,
     "user": {
      "displayName": "Zuil Filho",
      "userId": "14731231616780016906"
     },
     "user_tz": 0
    },
    "id": "i4ntJBXhdKUN"
   },
   "outputs": [],
   "source": [
    "import numpy as np"
   ]
  },
  {
   "cell_type": "markdown",
   "metadata": {
    "id": "cXq5W9zfdPAK"
   },
   "source": [
    "---\n",
    "\n",
    "# Review"
   ]
  },
  {
   "cell_type": "markdown",
   "metadata": {
    "id": "j0cjGeHKW3Bs"
   },
   "source": [
    "1 - Escreva um programa que calcule a soma de todos os números pares de 1 a 100. (Faça duas opções, uma usando o operador `%` e outra não)\n"
   ]
  },
  {
   "cell_type": "code",
   "execution_count": 6,
   "metadata": {
    "executionInfo": {
     "elapsed": 3,
     "status": "ok",
     "timestamp": 1707734666172,
     "user": {
      "displayName": "Zuil Filho",
      "userId": "14731231616780016906"
     },
     "user_tz": 0
    },
    "id": "J57V7h03PDLZ"
   },
   "outputs": [
    {
     "name": "stdout",
     "output_type": "stream",
     "text": [
      "2550\n"
     ]
    }
   ],
   "source": [
    "pares = 0\n",
    "\n",
    "for i in range (101):\n",
    "    if i % 2 == 0:\n",
    "        pares = pares + i\n",
    "        \n",
    "print(pares)\n"
   ]
  },
  {
   "cell_type": "code",
   "execution_count": 14,
   "metadata": {
    "executionInfo": {
     "elapsed": 4,
     "status": "ok",
     "timestamp": 1707734667902,
     "user": {
      "displayName": "Zuil Filho",
      "userId": "14731231616780016906"
     },
     "user_tz": 0
    },
    "id": "YIasWWryYKZC"
   },
   "outputs": [
    {
     "name": "stdout",
     "output_type": "stream",
     "text": [
      "2550\n"
     ]
    }
   ],
   "source": [
    "soma = 0\n",
    "# range (inicio, fim (notincluded), steps)\n",
    "for x in range(2,101,2): \n",
    "    soma += x\n",
    "print(soma)"
   ]
  },
  {
   "cell_type": "code",
   "execution_count": 17,
   "metadata": {},
   "outputs": [
    {
     "data": {
      "text/plain": [
       "2550"
      ]
     },
     "execution_count": 17,
     "metadata": {},
     "output_type": "execute_result"
    }
   ],
   "source": [
    "soma = sum([x for x in range (2,101,2)])\n",
    "soma"
   ]
  },
  {
   "cell_type": "markdown",
   "metadata": {
    "id": "VuWAxKDQXE2k"
   },
   "source": [
    "2 - Crie uma função que receba como parâmetro uma lista e retorne o maior elemento."
   ]
  },
  {
   "cell_type": "code",
   "execution_count": 22,
   "metadata": {
    "executionInfo": {
     "elapsed": 272,
     "status": "ok",
     "timestamp": 1707734673831,
     "user": {
      "displayName": "Zuil Filho",
      "userId": "14731231616780016906"
     },
     "user_tz": 0
    },
    "id": "xFH0liPYXATT"
   },
   "outputs": [
    {
     "data": {
      "text/plain": [
       "20"
      ]
     },
     "execution_count": 22,
     "metadata": {},
     "output_type": "execute_result"
    }
   ],
   "source": [
    "a = [1,3,0,20,5,8,1,3]\n",
    "\n",
    "def maior_elemento(a):\n",
    "    maior = a[0]\n",
    "    for i in a:\n",
    "        if i > maior:\n",
    "            maior = i\n",
    "    return maior\n",
    "\n",
    "maior_elemento(a)"
   ]
  },
  {
   "cell_type": "code",
   "execution_count": 25,
   "metadata": {},
   "outputs": [
    {
     "name": "stdout",
     "output_type": "stream",
     "text": [
      "20\n"
     ]
    }
   ],
   "source": [
    "def maior(input):\n",
    "    return(max(input))\n",
    "print(maior(a))"
   ]
  },
  {
   "cell_type": "markdown",
   "metadata": {
    "id": "lqisxV7ZXYNq"
   },
   "source": [
    "3 - Escreva um programa que gere uma lista com os números de 1 a 10 elevados ao quadrado.(use List Comprehension)"
   ]
  },
  {
   "cell_type": "code",
   "execution_count": 20,
   "metadata": {
    "executionInfo": {
     "elapsed": 274,
     "status": "ok",
     "timestamp": 1707734682141,
     "user": {
      "displayName": "Zuil Filho",
      "userId": "14731231616780016906"
     },
     "user_tz": 0
    },
    "id": "BXW94kxWXJYu"
   },
   "outputs": [
    {
     "name": "stdout",
     "output_type": "stream",
     "text": [
      "[0, 1, 4, 9, 16, 25, 36, 49, 64, 81, 100]\n"
     ]
    }
   ],
   "source": [
    "# newlist = [expression for item in iterable if condition == True]\n",
    "nums = [i ** 2 for i in range(11)]\n",
    "print(nums)"
   ]
  },
  {
   "cell_type": "markdown",
   "metadata": {
    "id": "4dTwGABOXot4"
   },
   "source": [
    "4 - Implemente uma função que receba duas listas como parâmetros e retorne uma nova lista contendo os elementos comuns entre as duas listas. (utilize a função `set()` e o operador `&`)"
   ]
  },
  {
   "cell_type": "code",
   "execution_count": 34,
   "metadata": {
    "executionInfo": {
     "elapsed": 3,
     "status": "ok",
     "timestamp": 1707734704720,
     "user": {
      "displayName": "Zuil Filho",
      "userId": "14731231616780016906"
     },
     "user_tz": 0
    },
    "id": "dUKbUeMJXrwP"
   },
   "outputs": [
    {
     "name": "stdout",
     "output_type": "stream",
     "text": [
      "[3, 5]\n"
     ]
    }
   ],
   "source": [
    "a = [1,3,0,20,5,8,8,3]\n",
    "b = [3,90,80,5,2]\n",
    "\n",
    "def common_elements(lista_A , lista_B):\n",
    "    setA = set(a)\n",
    "    setB = set(b)\n",
    "    return list(setB&setA)\n",
    "\n",
    "print(common_elements(a,b))\n",
    "    "
   ]
  },
  {
   "cell_type": "markdown",
   "metadata": {
    "id": "ejobuOngYn1c"
   },
   "source": [
    "5 - Escreva uma função que calcule a média de uma lista de números."
   ]
  },
  {
   "cell_type": "code",
   "execution_count": 38,
   "metadata": {
    "executionInfo": {
     "elapsed": 5,
     "status": "ok",
     "timestamp": 1707734709054,
     "user": {
      "displayName": "Zuil Filho",
      "userId": "14731231616780016906"
     },
     "user_tz": 0
    },
    "id": "BGDYqyepX-Q0"
   },
   "outputs": [
    {
     "name": "stdout",
     "output_type": "stream",
     "text": [
      "2.3333333333333335\n",
      "3\n"
     ]
    }
   ],
   "source": [
    "def media(nums):\n",
    "    return (sum(nums))/(len(nums))\n",
    "\n",
    "nums = [1, 2, 4] \n",
    "\n",
    "print(media(nums))"
   ]
  },
  {
   "cell_type": "markdown",
   "metadata": {
    "id": "Nz5UdUIzedjG"
   },
   "source": [
    "6 - Crie uma função que receba um número como parâmetro e retorne `True` se o número for primo e `False` caso contrário."
   ]
  },
  {
   "cell_type": "markdown",
   "metadata": {},
   "source": [
    "Normal Prime Number Algorithm: \n",
    "    To check whether a given number N is prime or not, \n",
    "    We have to check if number is divisible by any number from 2 to N-1. \n",
    "    If it is not divided by any number then it is a prime number else it is not a prime number."
   ]
  },
  {
   "cell_type": "code",
   "execution_count": 71,
   "metadata": {
    "executionInfo": {
     "elapsed": 249,
     "status": "ok",
     "timestamp": 1707734716924,
     "user": {
      "displayName": "Zuil Filho",
      "userId": "14731231616780016906"
     },
     "user_tz": 0
    },
    "id": "hYFVjYuvYuho",
    "scrolled": true
   },
   "outputs": [
    {
     "name": "stdout",
     "output_type": "stream",
     "text": [
      "Prime\n"
     ]
    }
   ],
   "source": [
    "def prime(num):\n",
    "    if num <= 1:\n",
    "        return false\n",
    "    for i in range(2,num):\n",
    "        if num%i==0:\n",
    "            return \"Not a Prime\"\n",
    "        return \"Prime\"        \n",
    "    \n",
    "print(prime(7))"
   ]
  },
  {
   "cell_type": "markdown",
   "metadata": {
    "id": "YQWgtZwtjy82"
   },
   "source": [
    "7 - Implemente uma função que receba uma lista como parâmetro e retorne uma nova lista contendo apenas os elementos únicos."
   ]
  },
  {
   "cell_type": "code",
   "execution_count": 70,
   "metadata": {
    "executionInfo": {
     "elapsed": 4,
     "status": "ok",
     "timestamp": 1707734721219,
     "user": {
      "displayName": "Zuil Filho",
      "userId": "14731231616780016906"
     },
     "user_tz": 0
    },
    "id": "fD68TSz4ifwf"
   },
   "outputs": [
    {
     "name": "stdout",
     "output_type": "stream",
     "text": [
      "[1, 2, 3, 5, 6]\n"
     ]
    }
   ],
   "source": [
    "def elementos_unicos(nums):\n",
    "    return list(set(nums))\n",
    "\n",
    "a = [1, 1, 1, 2, 3, 5, 5, 6]\n",
    "\n",
    "print(elementos_unicos(a))"
   ]
  },
  {
   "cell_type": "markdown",
   "metadata": {
    "id": "YmQdCVqkkDk3"
   },
   "source": [
    "8 - Escreva uma rotina que calcule a soma dos elementos de uma matriz. Faça duas opções, uma com `numpy` e outra sem."
   ]
  },
  {
   "cell_type": "code",
   "execution_count": 89,
   "metadata": {
    "executionInfo": {
     "elapsed": 3,
     "status": "ok",
     "timestamp": 1707734729314,
     "user": {
      "displayName": "Zuil Filho",
      "userId": "14731231616780016906"
     },
     "user_tz": 0
    },
    "id": "ASro-enVkePb"
   },
   "outputs": [
    {
     "name": "stdout",
     "output_type": "stream",
     "text": [
      "22\n"
     ]
    }
   ],
   "source": [
    "A = [[1, 4, 5], \n",
    "    [-5, 8, 9]]\n",
    "\n",
    "def calc_sum_matrix_elements(matriz):\n",
    "    if len(matriz) != 2:\n",
    "        return\n",
    "    return sum(matriz[0]) + sum(matriz[1])\n",
    "    \n",
    "print(calc_sum_matrix_elements(A))"
   ]
  },
  {
   "cell_type": "code",
   "execution_count": 79,
   "metadata": {
    "executionInfo": {
     "elapsed": 312,
     "status": "ok",
     "timestamp": 1707734735013,
     "user": {
      "displayName": "Zuil Filho",
      "userId": "14731231616780016906"
     },
     "user_tz": 0
    },
    "id": "GgmhOKOJj3iF"
   },
   "outputs": [
    {
     "name": "stdout",
     "output_type": "stream",
     "text": [
      "22\n"
     ]
    }
   ],
   "source": [
    "np.matrix([[1, 4, 5], [-5, 8, 9]])\n",
    "\n",
    "def calc_sum_matrix_elements_numpy(matriz):\n",
    "    return np.sum(matriz)\n",
    "    \n",
    "print(calc_sum_matrix_elements_numpy(A))"
   ]
  },
  {
   "cell_type": "markdown",
   "metadata": {
    "id": "bPV5HWzvn6lZ"
   },
   "source": [
    "9 - Crie uma função que receba duas matrizes como parâmetros e retorne a soma das duas matrizes. O que muda se somarmos duas matrizes usando o operador `+` e duas matrizes numpy usando o mesmo operador?"
   ]
  },
  {
   "cell_type": "code",
   "execution_count": 99,
   "metadata": {
    "executionInfo": {
     "elapsed": 302,
     "status": "ok",
     "timestamp": 1707734745375,
     "user": {
      "displayName": "Zuil Filho",
      "userId": "14731231616780016906"
     },
     "user_tz": 0
    },
    "id": "CSvlU8TOkJuj"
   },
   "outputs": [
    {
     "name": "stdout",
     "output_type": "stream",
     "text": [
      "Caso 1: [[1, 2], [2, 2], [3, 4], [3, 3]]\n",
      "Caso 2:\n",
      " [[4 6]\n",
      " [5 5]]\n"
     ]
    }
   ],
   "source": [
    "A = [[1, 2], \n",
    "    [2, 2]]\n",
    "\n",
    "B = [[3, 4], \n",
    "    [3, 3]]\n",
    "\n",
    "print(\"Caso 1:\", A+B)\n",
    "\n",
    "A = np.matrix([[1, 2], [2, 2]])\n",
    "B = np.matrix([[3, 4], [3, 3]])\n",
    "\n",
    "print(\"Caso 2:\\n\", A+B)"
   ]
  },
  {
   "cell_type": "markdown",
   "metadata": {
    "id": "bBt_cOhHo7XA"
   },
   "source": [
    "10 - Para que serve o método `numpy.shape()`? É possivel somar duas matrizes com operador `+` com shapes diferentes?"
   ]
  },
  {
   "cell_type": "code",
   "execution_count": 5,
   "metadata": {
    "executionInfo": {
     "elapsed": 3,
     "status": "ok",
     "timestamp": 1707734755595,
     "user": {
      "displayName": "Zuil Filho",
      "userId": "14731231616780016906"
     },
     "user_tz": 0
    },
    "id": "WQMjmybUoc4f"
   },
   "outputs": [],
   "source": []
  },
  {
   "cell_type": "markdown",
   "metadata": {
    "id": "RZLrXIhtporG"
   },
   "source": [
    "11 - Implemente uma função que receba uma lista como parâmetro e retorne outra lista com os elementos invertidos. Tente fazer em uma linha e usando somente slice."
   ]
  },
  {
   "cell_type": "code",
   "execution_count": 104,
   "metadata": {
    "executionInfo": {
     "elapsed": 294,
     "status": "ok",
     "timestamp": 1707734765237,
     "user": {
      "displayName": "Zuil Filho",
      "userId": "14731231616780016906"
     },
     "user_tz": 0
    },
    "id": "kjZR4g4To33W"
   },
   "outputs": [
    {
     "name": "stdout",
     "output_type": "stream",
     "text": [
      "[5, 4, 3, 2, 1]\n"
     ]
    }
   ],
   "source": [
    "def retorna_lista_elementos_invertidos(nums):\n",
    "    return nums[::-1]\n",
    "\n",
    "nums = [1, 2, 3, 4, 5]\n",
    "print(retorna_lista_elementos_invertidos(nums))"
   ]
  },
  {
   "cell_type": "markdown",
   "metadata": {
    "id": "cT_3vqbnurp8"
   },
   "source": [
    "12 - O que é uma matriz transposta? Escreva um programa que verifique se uma matriz é simétrica."
   ]
  },
  {
   "cell_type": "code",
   "execution_count": 5,
   "metadata": {
    "executionInfo": {
     "elapsed": 359,
     "status": "ok",
     "timestamp": 1707734769352,
     "user": {
      "displayName": "Zuil Filho",
      "userId": "14731231616780016906"
     },
     "user_tz": 0
    },
    "id": "4Uxy8FXQp4i0"
   },
   "outputs": [],
   "source": []
  },
  {
   "cell_type": "markdown",
   "metadata": {
    "id": "wcZklDoAvVRb"
   },
   "source": [
    "13 - Crie uma função que receba uma lista como parâmetro e retorne uma nova lista com os elementos ordenados de forma decrescente."
   ]
  },
  {
   "cell_type": "code",
   "execution_count": 5,
   "metadata": {
    "executionInfo": {
     "elapsed": 4,
     "status": "ok",
     "timestamp": 1707734775906,
     "user": {
      "displayName": "Zuil Filho",
      "userId": "14731231616780016906"
     },
     "user_tz": 0
    },
    "id": "mjKpNIzdvOLm"
   },
   "outputs": [],
   "source": []
  },
  {
   "cell_type": "markdown",
   "metadata": {
    "id": "WlVaMF2oxKvy"
   },
   "source": [
    "14 - Escreva uma rotina que calcule o produto escalar de dois vetores."
   ]
  },
  {
   "cell_type": "code",
   "execution_count": 5,
   "metadata": {
    "executionInfo": {
     "elapsed": 4,
     "status": "ok",
     "timestamp": 1707734780626,
     "user": {
      "displayName": "Zuil Filho",
      "userId": "14731231616780016906"
     },
     "user_tz": 0
    },
    "id": "r8pL8cjrvkNa"
   },
   "outputs": [],
   "source": []
  },
  {
   "cell_type": "markdown",
   "metadata": {
    "id": "iXuNxldbxr4l"
   },
   "source": [
    "15 - Crie uma função que receba uma lista como parâmetro e retorne `True` se a lista estiver ordenada em ordem crescente, `False` caso contrário."
   ]
  },
  {
   "cell_type": "code",
   "execution_count": 5,
   "metadata": {
    "executionInfo": {
     "elapsed": 4,
     "status": "ok",
     "timestamp": 1707734799219,
     "user": {
      "displayName": "Zuil Filho",
      "userId": "14731231616780016906"
     },
     "user_tz": 0
    },
    "id": "2bFX8Xo2xQfX"
   },
   "outputs": [],
   "source": []
  },
  {
   "cell_type": "markdown",
   "metadata": {
    "id": "3r6Q3ML60LN2"
   },
   "source": [
    "16 -  Implemente uma função que receba uma matriz como parâmetro e retorne `True` se a matriz for diagonal, `False` caso contrário. Pense em uma soluçao via numpy e via python list."
   ]
  },
  {
   "cell_type": "code",
   "execution_count": 5,
   "metadata": {
    "executionInfo": {
     "elapsed": 3,
     "status": "ok",
     "timestamp": 1707734803397,
     "user": {
      "displayName": "Zuil Filho",
      "userId": "14731231616780016906"
     },
     "user_tz": 0
    },
    "id": "HQNyDBgozO85"
   },
   "outputs": [],
   "source": []
  },
  {
   "cell_type": "markdown",
   "metadata": {
    "id": "KkdPDdcjATW6"
   },
   "source": [
    "17 - Crie uma função que receba uma lista como parâmetro e retorne a mediana dos elementos."
   ]
  },
  {
   "cell_type": "code",
   "execution_count": 5,
   "metadata": {
    "executionInfo": {
     "elapsed": 4,
     "status": "ok",
     "timestamp": 1707734807249,
     "user": {
      "displayName": "Zuil Filho",
      "userId": "14731231616780016906"
     },
     "user_tz": 0
    },
    "id": "nYlt-P4Q_kf7"
   },
   "outputs": [],
   "source": []
  },
  {
   "cell_type": "markdown",
   "metadata": {
    "id": "FJSImD8wBUfZ"
   },
   "source": [
    "18 - Crie uma função que receba uma lista como parâmetro e retorne uma nova lista contendo apenas os elementos que são múltiplos de 3."
   ]
  },
  {
   "cell_type": "code",
   "execution_count": 5,
   "metadata": {
    "executionInfo": {
     "elapsed": 239,
     "status": "ok",
     "timestamp": 1707734812158,
     "user": {
      "displayName": "Zuil Filho",
      "userId": "14731231616780016906"
     },
     "user_tz": 0
    },
    "id": "lOB3SpVeBVWX"
   },
   "outputs": [],
   "source": []
  },
  {
   "cell_type": "markdown",
   "metadata": {
    "id": "8WlEv3bICjot"
   },
   "source": [
    "19 - Escreva um programa que calcule a média móvel de uma lista com uma janela de tamanho `k`."
   ]
  },
  {
   "cell_type": "code",
   "execution_count": 5,
   "metadata": {
    "executionInfo": {
     "elapsed": 4,
     "status": "ok",
     "timestamp": 1707734816626,
     "user": {
      "displayName": "Zuil Filho",
      "userId": "14731231616780016906"
     },
     "user_tz": 0
    },
    "id": "ZtEaZp1VCcof"
   },
   "outputs": [],
   "source": []
  },
  {
   "cell_type": "markdown",
   "metadata": {
    "id": "5STqlBfuPknM"
   },
   "source": [
    "20 - Escreva um programa que calcule a soma dos fatoriais de todos os números de 1 a `N`, onde `N` é fornecido pelo usuário."
   ]
  },
  {
   "cell_type": "code",
   "execution_count": 5,
   "metadata": {
    "executionInfo": {
     "elapsed": 309,
     "status": "ok",
     "timestamp": 1707734821827,
     "user": {
      "displayName": "Zuil Filho",
      "userId": "14731231616780016906"
     },
     "user_tz": 0
    },
    "id": "aTLb9AGUC7CK"
   },
   "outputs": [],
   "source": []
  },
  {
   "cell_type": "markdown",
   "metadata": {
    "id": "O8V7Xew4Zg3Z"
   },
   "source": [
    "21 - Usando `while`, escreva um programa que gere um número aleatório entre 1 e 100 e permita que o usuário adivinhe o número. O programa deve fornecer feedback sobre se o palpite do usuário está alto, baixo ou correto. O loop deve continuar até que o usuário adivinhe corretamente. (utilize a biblioteca `random`)"
   ]
  },
  {
   "cell_type": "code",
   "execution_count": 5,
   "metadata": {
    "executionInfo": {
     "elapsed": 4,
     "status": "ok",
     "timestamp": 1707734838652,
     "user": {
      "displayName": "Zuil Filho",
      "userId": "14731231616780016906"
     },
     "user_tz": 0
    },
    "id": "P5Z36oZnP0oE"
   },
   "outputs": [],
   "source": []
  },
  {
   "cell_type": "markdown",
   "metadata": {
    "id": "tbz9YCFudtQZ"
   },
   "source": [
    "22 - Utilizando apenas list comprehension elaborar uma rotina que filtre números pares em uma lista."
   ]
  },
  {
   "cell_type": "code",
   "execution_count": 6,
   "metadata": {
    "executionInfo": {
     "elapsed": 4,
     "status": "ok",
     "timestamp": 1707734847977,
     "user": {
      "displayName": "Zuil Filho",
      "userId": "14731231616780016906"
     },
     "user_tz": 0
    },
    "id": "WLvOnqOAdtqB"
   },
   "outputs": [],
   "source": [
    "numbers = [1, 2, 3, 4, 5, 6, 7, 8, 9, 10]"
   ]
  },
  {
   "cell_type": "markdown",
   "metadata": {
    "id": "oDF1545zevKM"
   },
   "source": [
    "23 - Utilizando apenas list comprehension, elaborar uma rotina que converta strings para maiúsculas somente se tiverem mais de 5 caracteres. (utilizar `upper()`)"
   ]
  },
  {
   "cell_type": "code",
   "execution_count": 7,
   "metadata": {
    "executionInfo": {
     "elapsed": 346,
     "status": "ok",
     "timestamp": 1707734853681,
     "user": {
      "displayName": "Zuil Filho",
      "userId": "14731231616780016906"
     },
     "user_tz": 0
    },
    "id": "OaCk64r3eHCw"
   },
   "outputs": [],
   "source": [
    "words = [\"apple\", \"banana\", \"orange\", \"kiwi\", \"strawberry\", \"peach\"]"
   ]
  },
  {
   "cell_type": "markdown",
   "metadata": {
    "id": "x83fC0sAeucZ"
   },
   "source": [
    "24 - Qual a diferença entre `append` e `+` quando trabalhamos com listas? Explique com código."
   ]
  },
  {
   "cell_type": "code",
   "execution_count": 7,
   "metadata": {
    "executionInfo": {
     "elapsed": 236,
     "status": "ok",
     "timestamp": 1707734857192,
     "user": {
      "displayName": "Zuil Filho",
      "userId": "14731231616780016906"
     },
     "user_tz": 0
    },
    "id": "TrAS94jge1w-"
   },
   "outputs": [],
   "source": []
  },
  {
   "cell_type": "markdown",
   "metadata": {
    "id": "3qV6VUHihoGX"
   },
   "source": [
    "25 - Utilizando `enumerate()`, crie uma rotina que imprima índices e elementos contidos em uma lista."
   ]
  },
  {
   "cell_type": "code",
   "execution_count": 8,
   "metadata": {
    "executionInfo": {
     "elapsed": 294,
     "status": "ok",
     "timestamp": 1707734867658,
     "user": {
      "displayName": "Zuil Filho",
      "userId": "14731231616780016906"
     },
     "user_tz": 0
    },
    "id": "VtPboe1jh302"
   },
   "outputs": [],
   "source": [
    "fruits = [\"apple\", \"banana\", \"orange\", \"kiwi\", \"strawberry\"]"
   ]
  },
  {
   "cell_type": "markdown",
   "metadata": {
    "id": "6FrRkl8uiJbZ"
   },
   "source": [
    "26 - Através de um único comprehension, criar uma função que receba uma letra e um string e que conte o número de vezes que a letra aparece no string."
   ]
  },
  {
   "cell_type": "code",
   "execution_count": 8,
   "metadata": {
    "executionInfo": {
     "elapsed": 232,
     "status": "ok",
     "timestamp": 1707734899169,
     "user": {
      "displayName": "Zuil Filho",
      "userId": "14731231616780016906"
     },
     "user_tz": 0
    },
    "id": "FLy9dPrniaLA"
   },
   "outputs": [],
   "source": []
  },
  {
   "cell_type": "markdown",
   "metadata": {
    "id": "7TcNoFIokUpY"
   },
   "source": [
    "27 - Desenvolva um programa que permita ao usuário criar e atualizar uma lista de compras. Ele deve fornecer opções para adicionar novos itens à lista, remover itens existentes e exibir a lista atualizada.\n",
    "\n",
    "O menu da lista deve ser:\n",
    "\n",
    "`1. Adicionar Item`\n",
    "\n",
    "`2. Remover Item`\n",
    "\n",
    "`3. Exibir Lista de Compras`\n",
    "\n",
    "`4. Sair`\n",
    "\n",
    "\n",
    "- Ao selecionar `1` o programa pede ao utilizador o nome do item e quantidade;\n",
    "- Ao selecionar `2` o programa deve perguntar o nome do item que se quer remover;\n",
    "- Ao selecionar `3` o programa deve exibir os itens atuais da lista\n",
    "- Ao selecionar `4` o programa deve sair.\n",
    "- Ao digitar uma opção não válida o programa deve exibir `Opção inválida. Por favor, escolha novamente.`\n"
   ]
  },
  {
   "cell_type": "code",
   "execution_count": 8,
   "metadata": {
    "executionInfo": {
     "elapsed": 225,
     "status": "ok",
     "timestamp": 1707734905102,
     "user": {
      "displayName": "Zuil Filho",
      "userId": "14731231616780016906"
     },
     "user_tz": 0
    },
    "id": "V9Ieop3KgrrL"
   },
   "outputs": [],
   "source": []
  }
 ],
 "metadata": {
  "colab": {
   "provenance": []
  },
  "kernelspec": {
   "display_name": "Python 3 (ipykernel)",
   "language": "python",
   "name": "python3"
  },
  "language_info": {
   "codemirror_mode": {
    "name": "ipython",
    "version": 3
   },
   "file_extension": ".py",
   "mimetype": "text/x-python",
   "name": "python",
   "nbconvert_exporter": "python",
   "pygments_lexer": "ipython3",
   "version": "3.9.2"
  }
 },
 "nbformat": 4,
 "nbformat_minor": 1
}
